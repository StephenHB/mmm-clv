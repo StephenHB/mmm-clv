{
  "cells": [
    {
      "cell_type": "markdown",
      "metadata": {},
      "source": [
        "# CLV Analysis - Main Execution Notebook\n",
        "\n",
        "This notebook executes all modules from their subpaths for both Lifetimes and Meridian models.\n"
      ]
    },
    {
      "cell_type": "markdown",
      "metadata": {},
      "source": [
        "## Setup and Imports\n"
      ]
    },
    {
      "cell_type": "code",
      "execution_count": 1,
      "metadata": {},
      "outputs": [
        {
          "name": "stdout",
          "output_type": "stream",
          "text": [
            "All modules imported successfully!\n"
          ]
        }
      ],
      "source": [
        "import sys\n",
        "import os\n",
        "import numpy as np\n",
        "import pandas as pd\n",
        "# Add the project root to Python path\n",
        "sys.path.insert(0, os.path.abspath('..'))\n",
        "\n",
        "# Import shared utilities\n",
        "from src.data_preprocess.data_preprocess_utils import *\n",
        "from src.model.model_utils import *\n",
        "\n",
        "# Import model-specific modules\n",
        "from src.model.lifetimes.models import BGNBDModel, GammaGammaCLVModel, plot_probability_alive_heatmap\n",
        "from src.model.lifetimes.clv_analysis_poc import *\n",
        "from src.model.lifetimes.visualization import *\n",
        "\n",
        "print(\"All modules imported successfully!\")\n"
      ]
    },
    {
      "cell_type": "markdown",
      "metadata": {},
      "source": [
        "## Data Loading and Preprocessing\n"
      ]
    },
    {
      "cell_type": "code",
      "execution_count": 2,
      "metadata": {},
      "outputs": [
        {
          "name": "stdout",
          "output_type": "stream",
          "text": [
            "Loading retail data...\n",
            "Raw data shape: (541910, 8)\n",
            "Columns: ['Invoice', 'StockCode', 'Description', 'Quantity', 'InvoiceDate', 'Price', 'Customer ID', 'Country']\n",
            "\n",
            "Cleaning transaction data...\n",
            "Cleaned data shape: (397885, 9)\n",
            "\n",
            "Creating customer summary for CLV analysis...\n",
            "Customer summary shape: (2790, 4)\n",
            "Summary columns: ['frequency', 'recency', 'T', 'monetary_value']\n",
            "\n",
            "Sample customer summary:\n",
            "             frequency  recency      T  monetary_value\n",
            "Customer ID                                           \n",
            "12347.0            6.0    365.0  367.0      599.701667\n",
            "12348.0            3.0    283.0  358.0      301.480000\n",
            "12352.0            6.0    260.0  296.0      368.256667\n",
            "12356.0            2.0    303.0  325.0      269.905000\n",
            "12358.0            1.0    149.0  150.0      683.200000\n"
          ]
        }
      ],
      "source": [
        "# Load and preprocess the retail data\n",
        "DATA_PATH = '/Users/stephenzhang/Downloads/clv_data/Year_2010_2011.csv'\n",
        "\n",
        "print(\"Loading retail data...\")\n",
        "df_raw = load_retail_data(DATA_PATH)\n",
        "print(f\"Raw data shape: {df_raw.shape}\")\n",
        "print(f\"Columns: {list(df_raw.columns)}\")\n",
        "\n",
        "print(\"\\nCleaning transaction data...\")\n",
        "df_clean = clean_transaction_data(df_raw)\n",
        "print(f\"Cleaned data shape: {df_clean.shape}\")\n",
        "\n",
        "print(\"\\nCreating customer summary for CLV analysis...\")\n",
        "summary = create_customer_summary(df_clean)\n",
        "print(f\"Customer summary shape: {summary.shape}\")\n",
        "print(f\"Summary columns: {list(summary.columns)}\")\n",
        "\n",
        "# Display sample of the summary data\n",
        "print(\"\\nSample customer summary:\")\n",
        "print(summary.head())\n"
      ]
    },
    {
      "cell_type": "markdown",
      "metadata": {},
      "source": [
        "## Model Fitting and Training\n"
      ]
    },
    {
      "cell_type": "code",
      "execution_count": 3,
      "metadata": {},
      "outputs": [
        {
          "name": "stdout",
          "output_type": "stream",
          "text": [
            "Fitting BG/NBD model for transaction frequency...\n",
            "✅ BG/NBD model fitted successfully!\n",
            "BG/NBD parameters: r          1.943039\n",
            "alpha    108.919779\n",
            "a          0.009043\n",
            "b          0.163419\n",
            "dtype: float64\n",
            "\n",
            "Fitting Gamma-Gamma model for monetary value...\n",
            "✅ Gamma-Gamma model fitted successfully!\n",
            "Gamma-Gamma parameters: p      2.103382\n",
            "q      3.451306\n",
            "v    485.915505\n",
            "dtype: float64\n"
          ]
        }
      ],
      "source": [
        "# Fit BG/NBD model for transaction frequency prediction\n",
        "print(\"Fitting BG/NBD model for transaction frequency...\")\n",
        "bg_nbd_model = BGNBDModel(penalizer_coef=0.0)\n",
        "bg_nbd_model.fit(\n",
        "    frequency=summary['frequency'],\n",
        "    recency=summary['recency'], \n",
        "    T=summary['T']\n",
        ")\n",
        "print(\"✅ BG/NBD model fitted successfully!\")\n",
        "print(f\"BG/NBD parameters: {bg_nbd_model.params_}\")\n",
        "\n",
        "# Fit Gamma-Gamma model for monetary value prediction\n",
        "print(\"\\nFitting Gamma-Gamma model for monetary value...\")\n",
        "gamma_gamma_model = GammaGammaCLVModel(penalizer_coef=0.0)\n",
        "gamma_gamma_model.fit(\n",
        "    frequency=summary['frequency'],\n",
        "    monetary_value=summary['monetary_value']\n",
        ")\n",
        "print(\"✅ Gamma-Gamma model fitted successfully!\")\n",
        "print(f\"Gamma-Gamma parameters: {gamma_gamma_model.params_}\")\n"
      ]
    },
    {
      "cell_type": "markdown",
      "metadata": {},
      "source": [
        "## CLV Predictions and Analysis\n"
      ]
    },
    {
      "cell_type": "code",
      "execution_count": 4,
      "metadata": {},
      "outputs": [
        {
          "name": "stdout",
          "output_type": "stream",
          "text": [
            "Calculating CLV predictions...\n",
            "✅ CLV predictions calculated successfully!\n",
            "\n",
            "CLV Statistics (30 days):\n",
            "Mean CLV: £6411.99\n",
            "Median CLV: £3573.91\n",
            "Max CLV: £528249.29\n",
            "Min CLV: £240.25\n",
            "\n",
            "CLV Statistics (90 days):\n",
            "Mean CLV: £14612.92\n",
            "Median CLV: £8143.85\n",
            "Max CLV: £1201840.59\n",
            "Min CLV: £546.83\n",
            "\n",
            "Top 10 customers by 30-day CLV:\n",
            "             frequency  recency  monetary_value        clv_30d       clv_90d\n",
            "Customer ID                                                                 \n",
            "16446.0            1.0    205.0   168469.600000  528249.293224  1.201841e+06\n",
            "14646.0           44.0    353.0     6366.705909  474572.306760  1.082760e+06\n",
            "18102.0           25.0    367.0     9349.477200  389940.051936  8.896401e+05\n",
            "17450.0           26.0    359.0     7404.690385  320922.853001  7.321838e+05\n",
            "14096.0           16.0     97.0     4071.434375  250274.489473  5.702093e+05\n",
            "14911.0          131.0    372.0     1093.661679  231030.774869  5.271823e+05\n",
            "12415.0           15.0    313.0     7860.210000  213728.700838  4.875068e+05\n",
            "14156.0           42.0    362.0     2787.081667  191865.311736  4.377753e+05\n",
            "17511.0           27.0    371.0     3305.060741  147219.835331  3.358907e+05\n",
            "16029.0           38.0    335.0     2034.808421  125955.826441  2.873897e+05\n"
          ]
        }
      ],
      "source": [
        "# Calculate Customer Lifetime Value predictions\n",
        "print(\"Calculating CLV predictions...\")\n",
        "\n",
        "# Predict CLV for next 30 days\n",
        "clv_30d = gamma_gamma_model.customer_lifetime_value(\n",
        "    bg_nbd_model=bg_nbd_model,\n",
        "    frequency=summary['frequency'],\n",
        "    recency=summary['recency'],\n",
        "    T=summary['T'],\n",
        "    monetary_value=summary['monetary_value'],\n",
        "    time=30,  # 30 days\n",
        "    freq='D',  # daily frequency\n",
        "    discount_rate=0.01  # 1% daily discount rate\n",
        ")\n",
        "\n",
        "# Predict CLV for next 90 days\n",
        "clv_90d = gamma_gamma_model.customer_lifetime_value(\n",
        "    bg_nbd_model=bg_nbd_model,\n",
        "    frequency=summary['frequency'],\n",
        "    recency=summary['recency'],\n",
        "    T=summary['T'],\n",
        "    monetary_value=summary['monetary_value'],\n",
        "    time=90,  # 90 days\n",
        "    freq='D',  # daily frequency\n",
        "    discount_rate=0.01  # 1% daily discount rate\n",
        ")\n",
        "\n",
        "print(\"✅ CLV predictions calculated successfully!\")\n",
        "\n",
        "# Add CLV predictions to summary dataframe\n",
        "summary_with_clv = summary.copy()\n",
        "summary_with_clv['clv_30d'] = clv_30d\n",
        "summary_with_clv['clv_90d'] = clv_90d\n",
        "\n",
        "# Display CLV statistics\n",
        "print(f\"\\nCLV Statistics (30 days):\")\n",
        "print(f\"Mean CLV: £{clv_30d.mean():.2f}\")\n",
        "print(f\"Median CLV: £{np.median(clv_30d):.2f}\")\n",
        "print(f\"Max CLV: £{clv_30d.max():.2f}\")\n",
        "print(f\"Min CLV: £{clv_30d.min():.2f}\")\n",
        "\n",
        "print(f\"\\nCLV Statistics (90 days):\")\n",
        "print(f\"Mean CLV: £{clv_90d.mean():.2f}\")\n",
        "print(f\"Median CLV: £{np.median(clv_90d):.2f}\")\n",
        "print(f\"Max CLV: £{clv_90d.max():.2f}\")\n",
        "print(f\"Min CLV: £{clv_90d.min():.2f}\")\n",
        "\n",
        "# Show top 10 customers by CLV\n",
        "print(f\"\\nTop 10 customers by 30-day CLV:\")\n",
        "top_customers = summary_with_clv.nlargest(10, 'clv_30d')[['frequency', 'recency', 'monetary_value', 'clv_30d', 'clv_90d']]\n",
        "print(top_customers)\n"
      ]
    },
    {
      "cell_type": "markdown",
      "metadata": {},
      "source": [
        "## Probability Alive Analysis\n"
      ]
    },
    {
      "cell_type": "code",
      "execution_count": 5,
      "metadata": {},
      "outputs": [
        {
          "name": "stdout",
          "output_type": "stream",
          "text": [
            "Calculating probability alive for all customers...\n",
            "✅ Probability alive calculated successfully!\n",
            "\n",
            "Probability Alive Statistics:\n",
            "Mean probability: 0.937\n",
            "Median probability: 0.990\n",
            "Customers with >90% probability alive: 2312\n",
            "Customers with <10% probability alive: 0\n",
            "\n",
            "Top retention opportunities (high prob alive, low CLV):\n",
            "             frequency  recency  monetary_value  prob_alive      clv_30d\n",
            "Customer ID                                                             \n",
            "12877.0           11.0    355.0      125.973636    0.999034  3277.621134\n",
            "16775.0           10.0    357.0      146.376000    0.998730  3366.720574\n",
            "16817.0            8.0    366.0      170.068750    0.998686  3226.147129\n",
            "17961.0           34.0    351.0       34.379118    0.998645  2703.928138\n",
            "15910.0            7.0    316.0      154.670000    0.998535  3102.896233\n",
            "15602.0            8.0    360.0      150.665000    0.998509  2954.405733\n",
            "14083.0            7.0    367.0      101.270000    0.998421  2093.547168\n",
            "14901.0            8.0    361.0      152.142500    0.998414  2950.137216\n",
            "17114.0            7.0    329.0       95.197143    0.998379  2186.832662\n",
            "14878.0            8.0    346.0      145.441250    0.998367  2942.420614\n"
          ]
        }
      ],
      "source": [
        "# Calculate probability that customers are still \"alive\" (active)\n",
        "print(\"Calculating probability alive for all customers...\")\n",
        "prob_alive = bg_nbd_model.probability_alive(\n",
        "    frequency=summary['frequency'],\n",
        "    recency=summary['recency'],\n",
        "    T=summary['T']\n",
        ")\n",
        "\n",
        "# Add probability alive to summary\n",
        "summary_with_clv['prob_alive'] = prob_alive\n",
        "\n",
        "print(\"✅ Probability alive calculated successfully!\")\n",
        "\n",
        "# Display probability alive statistics\n",
        "print(f\"\\nProbability Alive Statistics:\")\n",
        "print(f\"Mean probability: {prob_alive.mean():.3f}\")\n",
        "print(f\"Median probability: {np.median(prob_alive):.3f}\")\n",
        "print(f\"Customers with >90% probability alive: {(prob_alive > 0.9).sum()}\")\n",
        "print(f\"Customers with <10% probability alive: {(prob_alive < 0.1).sum()}\")\n",
        "\n",
        "# Show customers with high probability of being alive but low CLV (retention opportunities)\n",
        "high_prob_low_clv = summary_with_clv[\n",
        "    (summary_with_clv['prob_alive'] > 0.8) & \n",
        "    (summary_with_clv['clv_30d'] < np.median(summary_with_clv['clv_30d']))\n",
        "].nlargest(10, 'prob_alive')[['frequency', 'recency', 'monetary_value', 'prob_alive', 'clv_30d']]\n",
        "\n",
        "print(f\"\\nTop retention opportunities (high prob alive, low CLV):\")\n",
        "print(high_prob_low_clv)\n"
      ]
    },
    {
      "cell_type": "markdown",
      "metadata": {},
      "source": [
        "## Visualization and Reporting\n"
      ]
    },
    {
      "cell_type": "code",
      "execution_count": null,
      "metadata": {},
      "outputs": [
        {
          "name": "stdout",
          "output_type": "stream",
          "text": [
            "Generating probability alive heatmap...\n"
          ]
        },
        {
          "ename": "FileNotFoundError",
          "evalue": "[Errno 2] No such file or directory: 'data/lifetimes/plots/probability_alive_heatmap.png'",
          "output_type": "error",
          "traceback": [
            "\u001b[31m---------------------------------------------------------------------------\u001b[39m",
            "\u001b[31mFileNotFoundError\u001b[39m                         Traceback (most recent call last)",
            "\u001b[36mCell\u001b[39m\u001b[36m \u001b[39m\u001b[32mIn[6]\u001b[39m\u001b[32m, line 3\u001b[39m\n\u001b[32m      1\u001b[39m \u001b[38;5;66;03m# Generate probability alive heatmap\u001b[39;00m\n\u001b[32m      2\u001b[39m \u001b[38;5;28mprint\u001b[39m(\u001b[33m\"\u001b[39m\u001b[33mGenerating probability alive heatmap...\u001b[39m\u001b[33m\"\u001b[39m)\n\u001b[32m----> \u001b[39m\u001b[32m3\u001b[39m \u001b[43mplot_probability_alive_heatmap\u001b[49m\u001b[43m(\u001b[49m\n\u001b[32m      4\u001b[39m \u001b[43m    \u001b[49m\u001b[43mbg_nbd_model\u001b[49m\u001b[43m,\u001b[49m\u001b[43m \u001b[49m\n\u001b[32m      5\u001b[39m \u001b[43m    \u001b[49m\u001b[43mmax_frequency\u001b[49m\u001b[43m=\u001b[49m\u001b[32;43m10\u001b[39;49m\u001b[43m,\u001b[49m\u001b[43m \u001b[49m\n\u001b[32m      6\u001b[39m \u001b[43m    \u001b[49m\u001b[43mmax_recency\u001b[49m\u001b[43m=\u001b[49m\u001b[32;43m30\u001b[39;49m\u001b[43m,\u001b[49m\u001b[43m \u001b[49m\n\u001b[32m      7\u001b[39m \u001b[43m    \u001b[49m\u001b[43mT\u001b[49m\u001b[43m=\u001b[49m\u001b[32;43m30\u001b[39;49m\u001b[43m,\u001b[49m\u001b[43m \u001b[49m\n\u001b[32m      8\u001b[39m \u001b[43m    \u001b[49m\u001b[43msave_path\u001b[49m\u001b[43m=\u001b[49m\u001b[33;43m'\u001b[39;49m\u001b[33;43mdata/lifetimes/plots/probability_alive_heatmap.png\u001b[39;49m\u001b[33;43m'\u001b[39;49m\n\u001b[32m      9\u001b[39m \u001b[43m)\u001b[49m\n\u001b[32m     10\u001b[39m \u001b[38;5;28mprint\u001b[39m(\u001b[33m\"\u001b[39m\u001b[33m✅ Probability alive heatmap generated!\u001b[39m\u001b[33m\"\u001b[39m)\n\u001b[32m     12\u001b[39m \u001b[38;5;66;03m# Save results to CSV\u001b[39;00m\n",
            "\u001b[36mFile \u001b[39m\u001b[32m~/Documents/code/mmm-clv/src/model/lifetimes/models.py:139\u001b[39m, in \u001b[36mplot_probability_alive_heatmap\u001b[39m\u001b[34m(bgnbd_model, max_frequency, max_recency, T, save_path)\u001b[39m\n\u001b[32m    137\u001b[39m plt.tight_layout()\n\u001b[32m    138\u001b[39m \u001b[38;5;28;01mif\u001b[39;00m save_path:\n\u001b[32m--> \u001b[39m\u001b[32m139\u001b[39m     \u001b[43mplt\u001b[49m\u001b[43m.\u001b[49m\u001b[43msavefig\u001b[49m\u001b[43m(\u001b[49m\u001b[43msave_path\u001b[49m\u001b[43m)\u001b[49m\n\u001b[32m    140\u001b[39m plt.show()\n",
            "\u001b[36mFile \u001b[39m\u001b[32m~/Documents/code/mmm-clv/marketing_env/lib/python3.12/site-packages/matplotlib/pyplot.py:1251\u001b[39m, in \u001b[36msavefig\u001b[39m\u001b[34m(*args, **kwargs)\u001b[39m\n\u001b[32m   1248\u001b[39m fig = gcf()\n\u001b[32m   1249\u001b[39m \u001b[38;5;66;03m# savefig default implementation has no return, so mypy is unhappy\u001b[39;00m\n\u001b[32m   1250\u001b[39m \u001b[38;5;66;03m# presumably this is here because subclasses can return?\u001b[39;00m\n\u001b[32m-> \u001b[39m\u001b[32m1251\u001b[39m res = \u001b[43mfig\u001b[49m\u001b[43m.\u001b[49m\u001b[43msavefig\u001b[49m\u001b[43m(\u001b[49m\u001b[43m*\u001b[49m\u001b[43margs\u001b[49m\u001b[43m,\u001b[49m\u001b[43m \u001b[49m\u001b[43m*\u001b[49m\u001b[43m*\u001b[49m\u001b[43mkwargs\u001b[49m\u001b[43m)\u001b[49m  \u001b[38;5;66;03m# type: ignore[func-returns-value]\u001b[39;00m\n\u001b[32m   1252\u001b[39m fig.canvas.draw_idle()  \u001b[38;5;66;03m# Need this if 'transparent=True', to reset colors.\u001b[39;00m\n\u001b[32m   1253\u001b[39m \u001b[38;5;28;01mreturn\u001b[39;00m res\n",
            "\u001b[36mFile \u001b[39m\u001b[32m~/Documents/code/mmm-clv/marketing_env/lib/python3.12/site-packages/matplotlib/figure.py:3490\u001b[39m, in \u001b[36mFigure.savefig\u001b[39m\u001b[34m(self, fname, transparent, **kwargs)\u001b[39m\n\u001b[32m   3488\u001b[39m     \u001b[38;5;28;01mfor\u001b[39;00m ax \u001b[38;5;129;01min\u001b[39;00m \u001b[38;5;28mself\u001b[39m.axes:\n\u001b[32m   3489\u001b[39m         _recursively_make_axes_transparent(stack, ax)\n\u001b[32m-> \u001b[39m\u001b[32m3490\u001b[39m \u001b[38;5;28;43mself\u001b[39;49m\u001b[43m.\u001b[49m\u001b[43mcanvas\u001b[49m\u001b[43m.\u001b[49m\u001b[43mprint_figure\u001b[49m\u001b[43m(\u001b[49m\u001b[43mfname\u001b[49m\u001b[43m,\u001b[49m\u001b[43m \u001b[49m\u001b[43m*\u001b[49m\u001b[43m*\u001b[49m\u001b[43mkwargs\u001b[49m\u001b[43m)\u001b[49m\n",
            "\u001b[36mFile \u001b[39m\u001b[32m~/Documents/code/mmm-clv/marketing_env/lib/python3.12/site-packages/matplotlib/backend_bases.py:2184\u001b[39m, in \u001b[36mFigureCanvasBase.print_figure\u001b[39m\u001b[34m(self, filename, dpi, facecolor, edgecolor, orientation, format, bbox_inches, pad_inches, bbox_extra_artists, backend, **kwargs)\u001b[39m\n\u001b[32m   2180\u001b[39m \u001b[38;5;28;01mtry\u001b[39;00m:\n\u001b[32m   2181\u001b[39m     \u001b[38;5;66;03m# _get_renderer may change the figure dpi (as vector formats\u001b[39;00m\n\u001b[32m   2182\u001b[39m     \u001b[38;5;66;03m# force the figure dpi to 72), so we need to set it again here.\u001b[39;00m\n\u001b[32m   2183\u001b[39m     \u001b[38;5;28;01mwith\u001b[39;00m cbook._setattr_cm(\u001b[38;5;28mself\u001b[39m.figure, dpi=dpi):\n\u001b[32m-> \u001b[39m\u001b[32m2184\u001b[39m         result = \u001b[43mprint_method\u001b[49m\u001b[43m(\u001b[49m\n\u001b[32m   2185\u001b[39m \u001b[43m            \u001b[49m\u001b[43mfilename\u001b[49m\u001b[43m,\u001b[49m\n\u001b[32m   2186\u001b[39m \u001b[43m            \u001b[49m\u001b[43mfacecolor\u001b[49m\u001b[43m=\u001b[49m\u001b[43mfacecolor\u001b[49m\u001b[43m,\u001b[49m\n\u001b[32m   2187\u001b[39m \u001b[43m            \u001b[49m\u001b[43medgecolor\u001b[49m\u001b[43m=\u001b[49m\u001b[43medgecolor\u001b[49m\u001b[43m,\u001b[49m\n\u001b[32m   2188\u001b[39m \u001b[43m            \u001b[49m\u001b[43morientation\u001b[49m\u001b[43m=\u001b[49m\u001b[43morientation\u001b[49m\u001b[43m,\u001b[49m\n\u001b[32m   2189\u001b[39m \u001b[43m            \u001b[49m\u001b[43mbbox_inches_restore\u001b[49m\u001b[43m=\u001b[49m\u001b[43m_bbox_inches_restore\u001b[49m\u001b[43m,\u001b[49m\n\u001b[32m   2190\u001b[39m \u001b[43m            \u001b[49m\u001b[43m*\u001b[49m\u001b[43m*\u001b[49m\u001b[43mkwargs\u001b[49m\u001b[43m)\u001b[49m\n\u001b[32m   2191\u001b[39m \u001b[38;5;28;01mfinally\u001b[39;00m:\n\u001b[32m   2192\u001b[39m     \u001b[38;5;28;01mif\u001b[39;00m bbox_inches \u001b[38;5;129;01mand\u001b[39;00m restore_bbox:\n",
            "\u001b[36mFile \u001b[39m\u001b[32m~/Documents/code/mmm-clv/marketing_env/lib/python3.12/site-packages/matplotlib/backend_bases.py:2040\u001b[39m, in \u001b[36mFigureCanvasBase._switch_canvas_and_return_print_method.<locals>.<lambda>\u001b[39m\u001b[34m(*args, **kwargs)\u001b[39m\n\u001b[32m   2036\u001b[39m     optional_kws = {  \u001b[38;5;66;03m# Passed by print_figure for other renderers.\u001b[39;00m\n\u001b[32m   2037\u001b[39m         \u001b[33m\"\u001b[39m\u001b[33mdpi\u001b[39m\u001b[33m\"\u001b[39m, \u001b[33m\"\u001b[39m\u001b[33mfacecolor\u001b[39m\u001b[33m\"\u001b[39m, \u001b[33m\"\u001b[39m\u001b[33medgecolor\u001b[39m\u001b[33m\"\u001b[39m, \u001b[33m\"\u001b[39m\u001b[33morientation\u001b[39m\u001b[33m\"\u001b[39m,\n\u001b[32m   2038\u001b[39m         \u001b[33m\"\u001b[39m\u001b[33mbbox_inches_restore\u001b[39m\u001b[33m\"\u001b[39m}\n\u001b[32m   2039\u001b[39m     skip = optional_kws - {*inspect.signature(meth).parameters}\n\u001b[32m-> \u001b[39m\u001b[32m2040\u001b[39m     print_method = functools.wraps(meth)(\u001b[38;5;28;01mlambda\u001b[39;00m *args, **kwargs: \u001b[43mmeth\u001b[49m\u001b[43m(\u001b[49m\n\u001b[32m   2041\u001b[39m \u001b[43m        \u001b[49m\u001b[43m*\u001b[49m\u001b[43margs\u001b[49m\u001b[43m,\u001b[49m\u001b[43m \u001b[49m\u001b[43m*\u001b[49m\u001b[43m*\u001b[49m\u001b[43m{\u001b[49m\u001b[43mk\u001b[49m\u001b[43m:\u001b[49m\u001b[43m \u001b[49m\u001b[43mv\u001b[49m\u001b[43m \u001b[49m\u001b[38;5;28;43;01mfor\u001b[39;49;00m\u001b[43m \u001b[49m\u001b[43mk\u001b[49m\u001b[43m,\u001b[49m\u001b[43m \u001b[49m\u001b[43mv\u001b[49m\u001b[43m \u001b[49m\u001b[38;5;129;43;01min\u001b[39;49;00m\u001b[43m \u001b[49m\u001b[43mkwargs\u001b[49m\u001b[43m.\u001b[49m\u001b[43mitems\u001b[49m\u001b[43m(\u001b[49m\u001b[43m)\u001b[49m\u001b[43m \u001b[49m\u001b[38;5;28;43;01mif\u001b[39;49;00m\u001b[43m \u001b[49m\u001b[43mk\u001b[49m\u001b[43m \u001b[49m\u001b[38;5;129;43;01mnot\u001b[39;49;00m\u001b[43m \u001b[49m\u001b[38;5;129;43;01min\u001b[39;49;00m\u001b[43m \u001b[49m\u001b[43mskip\u001b[49m\u001b[43m}\u001b[49m\u001b[43m)\u001b[49m)\n\u001b[32m   2042\u001b[39m \u001b[38;5;28;01melse\u001b[39;00m:  \u001b[38;5;66;03m# Let third-parties do as they see fit.\u001b[39;00m\n\u001b[32m   2043\u001b[39m     print_method = meth\n",
            "\u001b[36mFile \u001b[39m\u001b[32m~/Documents/code/mmm-clv/marketing_env/lib/python3.12/site-packages/matplotlib/backends/backend_agg.py:481\u001b[39m, in \u001b[36mFigureCanvasAgg.print_png\u001b[39m\u001b[34m(self, filename_or_obj, metadata, pil_kwargs)\u001b[39m\n\u001b[32m    434\u001b[39m \u001b[38;5;28;01mdef\u001b[39;00m\u001b[38;5;250m \u001b[39m\u001b[34mprint_png\u001b[39m(\u001b[38;5;28mself\u001b[39m, filename_or_obj, *, metadata=\u001b[38;5;28;01mNone\u001b[39;00m, pil_kwargs=\u001b[38;5;28;01mNone\u001b[39;00m):\n\u001b[32m    435\u001b[39m \u001b[38;5;250m    \u001b[39m\u001b[33;03m\"\"\"\u001b[39;00m\n\u001b[32m    436\u001b[39m \u001b[33;03m    Write the figure to a PNG file.\u001b[39;00m\n\u001b[32m    437\u001b[39m \n\u001b[32m   (...)\u001b[39m\u001b[32m    479\u001b[39m \u001b[33;03m        *metadata*, including the default 'Software' key.\u001b[39;00m\n\u001b[32m    480\u001b[39m \u001b[33;03m    \"\"\"\u001b[39;00m\n\u001b[32m--> \u001b[39m\u001b[32m481\u001b[39m     \u001b[38;5;28;43mself\u001b[39;49m\u001b[43m.\u001b[49m\u001b[43m_print_pil\u001b[49m\u001b[43m(\u001b[49m\u001b[43mfilename_or_obj\u001b[49m\u001b[43m,\u001b[49m\u001b[43m \u001b[49m\u001b[33;43m\"\u001b[39;49m\u001b[33;43mpng\u001b[39;49m\u001b[33;43m\"\u001b[39;49m\u001b[43m,\u001b[49m\u001b[43m \u001b[49m\u001b[43mpil_kwargs\u001b[49m\u001b[43m,\u001b[49m\u001b[43m \u001b[49m\u001b[43mmetadata\u001b[49m\u001b[43m)\u001b[49m\n",
            "\u001b[36mFile \u001b[39m\u001b[32m~/Documents/code/mmm-clv/marketing_env/lib/python3.12/site-packages/matplotlib/backends/backend_agg.py:430\u001b[39m, in \u001b[36mFigureCanvasAgg._print_pil\u001b[39m\u001b[34m(self, filename_or_obj, fmt, pil_kwargs, metadata)\u001b[39m\n\u001b[32m    425\u001b[39m \u001b[38;5;250m\u001b[39m\u001b[33;03m\"\"\"\u001b[39;00m\n\u001b[32m    426\u001b[39m \u001b[33;03mDraw the canvas, then save it using `.image.imsave` (to which\u001b[39;00m\n\u001b[32m    427\u001b[39m \u001b[33;03m*pil_kwargs* and *metadata* are forwarded).\u001b[39;00m\n\u001b[32m    428\u001b[39m \u001b[33;03m\"\"\"\u001b[39;00m\n\u001b[32m    429\u001b[39m FigureCanvasAgg.draw(\u001b[38;5;28mself\u001b[39m)\n\u001b[32m--> \u001b[39m\u001b[32m430\u001b[39m \u001b[43mmpl\u001b[49m\u001b[43m.\u001b[49m\u001b[43mimage\u001b[49m\u001b[43m.\u001b[49m\u001b[43mimsave\u001b[49m\u001b[43m(\u001b[49m\n\u001b[32m    431\u001b[39m \u001b[43m    \u001b[49m\u001b[43mfilename_or_obj\u001b[49m\u001b[43m,\u001b[49m\u001b[43m \u001b[49m\u001b[38;5;28;43mself\u001b[39;49m\u001b[43m.\u001b[49m\u001b[43mbuffer_rgba\u001b[49m\u001b[43m(\u001b[49m\u001b[43m)\u001b[49m\u001b[43m,\u001b[49m\u001b[43m \u001b[49m\u001b[38;5;28;43mformat\u001b[39;49m\u001b[43m=\u001b[49m\u001b[43mfmt\u001b[49m\u001b[43m,\u001b[49m\u001b[43m \u001b[49m\u001b[43morigin\u001b[49m\u001b[43m=\u001b[49m\u001b[33;43m\"\u001b[39;49m\u001b[33;43mupper\u001b[39;49m\u001b[33;43m\"\u001b[39;49m\u001b[43m,\u001b[49m\n\u001b[32m    432\u001b[39m \u001b[43m    \u001b[49m\u001b[43mdpi\u001b[49m\u001b[43m=\u001b[49m\u001b[38;5;28;43mself\u001b[39;49m\u001b[43m.\u001b[49m\u001b[43mfigure\u001b[49m\u001b[43m.\u001b[49m\u001b[43mdpi\u001b[49m\u001b[43m,\u001b[49m\u001b[43m \u001b[49m\u001b[43mmetadata\u001b[49m\u001b[43m=\u001b[49m\u001b[43mmetadata\u001b[49m\u001b[43m,\u001b[49m\u001b[43m \u001b[49m\u001b[43mpil_kwargs\u001b[49m\u001b[43m=\u001b[49m\u001b[43mpil_kwargs\u001b[49m\u001b[43m)\u001b[49m\n",
            "\u001b[36mFile \u001b[39m\u001b[32m~/Documents/code/mmm-clv/marketing_env/lib/python3.12/site-packages/matplotlib/image.py:1657\u001b[39m, in \u001b[36mimsave\u001b[39m\u001b[34m(fname, arr, vmin, vmax, cmap, format, origin, dpi, metadata, pil_kwargs)\u001b[39m\n\u001b[32m   1655\u001b[39m pil_kwargs.setdefault(\u001b[33m\"\u001b[39m\u001b[33mformat\u001b[39m\u001b[33m\"\u001b[39m, \u001b[38;5;28mformat\u001b[39m)\n\u001b[32m   1656\u001b[39m pil_kwargs.setdefault(\u001b[33m\"\u001b[39m\u001b[33mdpi\u001b[39m\u001b[33m\"\u001b[39m, (dpi, dpi))\n\u001b[32m-> \u001b[39m\u001b[32m1657\u001b[39m \u001b[43mimage\u001b[49m\u001b[43m.\u001b[49m\u001b[43msave\u001b[49m\u001b[43m(\u001b[49m\u001b[43mfname\u001b[49m\u001b[43m,\u001b[49m\u001b[43m \u001b[49m\u001b[43m*\u001b[49m\u001b[43m*\u001b[49m\u001b[43mpil_kwargs\u001b[49m\u001b[43m)\u001b[49m\n",
            "\u001b[36mFile \u001b[39m\u001b[32m~/Documents/code/mmm-clv/marketing_env/lib/python3.12/site-packages/PIL/Image.py:2583\u001b[39m, in \u001b[36mImage.save\u001b[39m\u001b[34m(self, fp, format, **params)\u001b[39m\n\u001b[32m   2581\u001b[39m         fp = builtins.open(filename, \u001b[33m\"\u001b[39m\u001b[33mr+b\u001b[39m\u001b[33m\"\u001b[39m)\n\u001b[32m   2582\u001b[39m     \u001b[38;5;28;01melse\u001b[39;00m:\n\u001b[32m-> \u001b[39m\u001b[32m2583\u001b[39m         fp = \u001b[43mbuiltins\u001b[49m\u001b[43m.\u001b[49m\u001b[43mopen\u001b[49m\u001b[43m(\u001b[49m\u001b[43mfilename\u001b[49m\u001b[43m,\u001b[49m\u001b[43m \u001b[49m\u001b[33;43m\"\u001b[39;49m\u001b[33;43mw+b\u001b[39;49m\u001b[33;43m\"\u001b[39;49m\u001b[43m)\u001b[49m\n\u001b[32m   2584\u001b[39m \u001b[38;5;28;01melse\u001b[39;00m:\n\u001b[32m   2585\u001b[39m     fp = cast(IO[\u001b[38;5;28mbytes\u001b[39m], fp)\n",
            "\u001b[31mFileNotFoundError\u001b[39m: [Errno 2] No such file or directory: 'data/lifetimes/plots/probability_alive_heatmap.png'"
          ]
        },
        {
          "data": {
            "image/png": "[encoded data removed]",
            "text/plain": [
              "<Figure size 1000x600 with 2 Axes>"
            ]
          },
          "metadata": {},
          "output_type": "display_data"
        }
      ],
      "source": [
        "# Generate probability alive heatmap\n",
        "print(\"Generating probability alive heatmap...\")\n",
        "\n",
        "# Ensure the plots directory exists\n",
        "os.makedirs('data/lifetimes/plots', exist_ok=True)\n",
        "\n",
        "plot_probability_alive_heatmap(\n",
        "    bg_nbd_model, \n",
        "    max_frequency=10, \n",
        "    max_recency=30, \n",
        "    T=30, \n",
        "    save_path='data/lifetimes/plots/probability_alive_heatmap.png'\n",
        ")\n",
        "print(\"✅ Probability alive heatmap generated!\")\n",
        "\n",
        "# Save results to CSV\n",
        "output_path = 'data/lifetimes/clv_results_complete.csv'\n",
        "summary_with_clv.to_csv(output_path, index=True)\n",
        "print(f\"✅ Complete CLV results saved to: {output_path}\")\n",
        "\n",
        "# Generate comprehensive visualization report\n",
        "print(\"Generating comprehensive visualization report...\")\n",
        "generate_html_report()\n",
        "print(\"✅ HTML visualization report generated!\")\n",
        "\n",
        "print(\"\\n🎉 CLV Analysis Complete!\")\n",
        "print(\"=\" * 50)\n",
        "print(\"Summary of outputs:\")\n",
        "print(f\"1. Complete CLV results: {output_path}\")\n",
        "print(\"2. Probability alive heatmap: data/lifetimes/plots/probability_alive_heatmap.png\")\n",
        "print(\"3. HTML visualization report: data/lifetimes/visualization_report.html\")\n",
        "print(\"4. All plots saved in: data/lifetimes/plots/\")\n",
        "print(\"=\" * 50)\n"
      ]
    }
  ],
  "metadata": {
    "kernelspec": {
      "display_name": "marketing_env",
      "language": "python",
      "name": "python3"
    },
    "language_info": {
      "codemirror_mode": {
        "name": "ipython",
        "version": 3
      },
      "file_extension": ".py",
      "mimetype": "text/x-python",
      "name": "python",
      "nbconvert_exporter": "python",
      "pygments_lexer": "ipython3",
      "version": "3.12.7"
    }
  },
  "nbformat": 4,
  "nbformat_minor": 2
}
